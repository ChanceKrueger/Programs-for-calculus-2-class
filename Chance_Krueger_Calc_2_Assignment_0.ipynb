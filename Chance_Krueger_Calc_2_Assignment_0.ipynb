{
  "nbformat": 4,
  "nbformat_minor": 0,
  "metadata": {
    "colab": {
      "provenance": [],
      "authorship_tag": "ABX9TyOk5+hRNpFyQveLSCR6ebty",
      "include_colab_link": true
    },
    "kernelspec": {
      "name": "python3",
      "display_name": "Python 3"
    },
    "language_info": {
      "name": "python"
    }
  },
  "cells": [
    {
      "cell_type": "markdown",
      "metadata": {
        "id": "view-in-github",
        "colab_type": "text"
      },
      "source": [
        "<a href=\"https://colab.research.google.com/github/ChanceKrueger/Programs-for-calculus-2-class/blob/main/Chance_Krueger_Calc_2_Assignment_0.ipynb\" target=\"_parent\"><img src=\"https://colab.research.google.com/assets/colab-badge.svg\" alt=\"Open In Colab\"/></a>"
      ]
    },
    {
      "cell_type": "markdown",
      "source": [
        "## **Chance Krueger**\n",
        "*MATH-3025-01 *\n",
        "**Calc/Analytic Geom II**\n",
        "*Assignment 0 *"
      ],
      "metadata": {
        "id": "3X-FEfZ-Oo8W"
      }
    },
    {
      "cell_type": "markdown",
      "source": [
        "This program will calcualte the integral and derivative of my faviorit function e^(x)+(1/2(x^2))"
      ],
      "metadata": {
        "id": "BGmY3I4qUuYx"
      }
    },
    {
      "cell_type": "code",
      "metadata": {
        "colab": {
          "base_uri": "https://localhost:8080/"
        },
        "id": "7fb46a8f",
        "outputId": "8bdcf900-cd10-4890-b7f1-8c94f7337800"
      },
      "source": [
        "import sympy\n",
        "\n",
        "# Define the variable and the function\n",
        "x = sympy.Symbol('x')\n",
        "f = sympy.exp(x) + (1/2) * x**2\n",
        "\n",
        "# Calculate the derivative\n",
        "derivative_f = sympy.diff(f, x)\n",
        "\n",
        "# Calculate the integral\n",
        "integral_f = sympy.integrate(f, x)\n",
        "\n",
        "# Display the original function, its derivative, and its integral\n",
        "print(\"Original function:\", f)\n",
        "print(\"Derivative:\", derivative_f)\n",
        "print(\"Integral:\", integral_f)"
      ],
      "execution_count": 2,
      "outputs": [
        {
          "output_type": "stream",
          "name": "stdout",
          "text": [
            "Original function: 0.5*x**2 + exp(x)\n",
            "Derivative: 1.0*x + exp(x)\n",
            "Integral: 0.166666666666667*x**3 + 1.0*exp(x)\n"
          ]
        }
      ]
    }
  ]
}